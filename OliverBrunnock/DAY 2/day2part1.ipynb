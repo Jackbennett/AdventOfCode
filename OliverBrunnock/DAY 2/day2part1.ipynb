{
 "cells": [
  {
   "cell_type": "code",
   "execution_count": 1,
   "metadata": {},
   "outputs": [
    {
     "name": "stdout",
     "output_type": "stream",
     "text": [
      "Answer to part1: 10941\n"
     ]
    }
   ],
   "source": [
    "with open('AOCDAY2.txt') as file:\n",
    "  data = [i for i in file.read().strip().split(\"\\n\")]\n",
    "  #print(data)\n",
    "\n",
    "#max = 0\n",
    "\n",
    "\n",
    "count = 0\n",
    "for item in data:\n",
    "  if item == 'A X':\n",
    "    #count =\n",
    "    num = int(1+3)\n",
    "    count += num\n",
    "\n",
    "  elif item == 'A Y':\n",
    "    num = int(2+6)\n",
    "    count += num\n",
    "\n",
    "  elif item == 'A Z':\n",
    "    num = int(3+0)\n",
    "    count += num\n",
    "\n",
    "  elif item == 'B X':\n",
    "    num = int(1+0)\n",
    "    count += num\n",
    "\n",
    "  elif item == 'B Y':\n",
    "    num = int(2+3)\n",
    "    count += num\n",
    "\n",
    "  elif item == 'B Z':\n",
    "    num = int(3+6)\n",
    "    count += num\n",
    "\n",
    "  elif item == 'C X':\n",
    "    num = int(1+6)\n",
    "    count += num\n",
    "\n",
    "  elif item == 'C Y':\n",
    "    num = int(2+0)\n",
    "    count += num\n",
    "\n",
    "  elif item == 'C Z':\n",
    "    num = int(3+3)\n",
    "    count += num\n",
    "\n",
    "\n",
    "\n",
    "print(\"Answer to part1:\", count)"
   ]
  }
 ],
 "metadata": {
  "kernelspec": {
   "display_name": "Python 3.10.7 64-bit",
   "language": "python",
   "name": "python3"
  },
  "language_info": {
   "codemirror_mode": {
    "name": "ipython",
    "version": 3
   },
   "file_extension": ".py",
   "mimetype": "text/x-python",
   "name": "python",
   "nbconvert_exporter": "python",
   "pygments_lexer": "ipython3",
   "version": "3.10.7"
  },
  "orig_nbformat": 4,
  "vscode": {
   "interpreter": {
    "hash": "1e6b99565b0c4ce0a27193e34279df52f8761baf9a6e7c5274ea54606d1e62b3"
   }
  }
 },
 "nbformat": 4,
 "nbformat_minor": 2
}
