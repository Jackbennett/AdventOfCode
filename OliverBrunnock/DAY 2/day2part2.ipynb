{
 "cells": [
  {
   "cell_type": "code",
   "execution_count": 6,
   "metadata": {},
   "outputs": [
    {
     "name": "stdout",
     "output_type": "stream",
     "text": [
      "Answer to part 2: 13071\n"
     ]
    }
   ],
   "source": [
    "# I got help this is Not my Code\n",
    "\n",
    "with open('AOCDAY2.txt') as file:\n",
    "  data = [i for i in file.read().strip().split(\"\\n\")]\n",
    "\n",
    "desired_outcomes = {\n",
    "    \"A X\":3, \"A Y\":4, \"A Z\":8,\n",
    "    \"B X\":1, \"B Y\":5, \"B Z\":9,\n",
    "    \"C X\":2, \"C Y\":6, \"C Z\":7\n",
    "}\n",
    "\n",
    "Total_Points = 0\n",
    "for rounds in data:\n",
    "    Total_Points += desired_outcomes[rounds]\n",
    "\n",
    "print(\"Answer to part 2:\", Total_Points)"
   ]
  }
 ],
 "metadata": {
  "kernelspec": {
   "display_name": "Python 3",
   "language": "python",
   "name": "python3"
  },
  "language_info": {
   "codemirror_mode": {
    "name": "ipython",
    "version": 3
   },
   "file_extension": ".py",
   "mimetype": "text/x-python",
   "name": "python",
   "nbconvert_exporter": "python",
   "pygments_lexer": "ipython3",
   "version": "3.10.8 (tags/v3.10.8:aaaf517, Oct 11 2022, 16:50:30) [MSC v.1933 64 bit (AMD64)]"
  },
  "orig_nbformat": 4,
  "vscode": {
   "interpreter": {
    "hash": "26de051ba29f2982a8de78e945f0abaf191376122a1563185a90213a26c5da77"
   }
  }
 },
 "nbformat": 4,
 "nbformat_minor": 2
}
